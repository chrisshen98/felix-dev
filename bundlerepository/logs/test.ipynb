{
 "cells": [
  {
   "cell_type": "code",
   "execution_count": null,
   "metadata": {},
   "outputs": [
    {
     "ename": "",
     "evalue": "",
     "output_type": "error",
     "traceback": [
      "\u001b[1;31mRunning cells with 'Python 3.8.2 64-bit' requires ipykernel package.\n",
      "\u001b[1;31mRun the following command to install 'ipykernel' into the Python environment. \n",
      "\u001b[1;31mCommand: '/usr/bin/python3 -m pip install ipykernel -U --user --force-reinstall'"
     ]
    }
   ],
   "source": [
    "# files = [\"felix-dev/bundlerepository/logs/ResolverImplTest\",\n",
    "# \"felix-dev/bundlerepository/logs/RepositoryAdminTest\",\n",
    "# \"felix-dev/bundlerepository/logs/FelixRequirementAdapterTest\",\n",
    "# \"felix-dev/bundlerepository/logs/CapabilityImplTest\",\n",
    "# \"felix-dev/bundlerepository/logs/OSGiRepositoryImplTest\",\n",
    "# \"felix-dev/bundlerepository/logs/OSGiRepositoryXMLTest\",\n",
    "# \"felix-dev/bundlerepository/logs/RepositoryImplTest\",\n",
    "# \"felix-dev/bundlerepository/logs/LazyStringMapTest\",\n",
    "# \"felix-dev/bundlerepository/logs/DataModelHelperTest\",\n",
    "# \"felix-dev/bundlerepository/logs/StaxParserTest\",\n",
    "# \"felix-dev/bundlerepository/logs/ResourceImplTest\",\n",
    "# \"felix-dev/bundlerepository/logs/OSGiRequirementAdapterTest\",\n",
    "# \"felix-dev/bundlerepository/logs/NamespaceTranslatorTest\"]\n",
    "files = [\"felix-dev/bundlerepository/logs/ResolverImplTest\"]\n",
    "\n",
    "for file in files:\n",
    "    with open(file) as f:\n",
    "        f = f.readlines()\n",
    "    for line in f:\n",
    "        if \"[CTEST]\" in line:\n",
    "            print(line)\n"
   ]
  },
  {
   "cell_type": "code",
   "execution_count": null,
   "metadata": {},
   "outputs": [],
   "source": [
    "org.apache.felix.bundlerepository.impl.ResolverImplTest#testReferral1\",\n",
    "    \"org.apache.felix.bundlerepository.impl.ResolverImplTest#testSpec\",\n",
    "    \"org.apache.felix.bundlerepository.impl.ResolverImplTest#testSpec2\",\n",
    "    \"org.apache.felix.bundlerepository.impl.ResolverImplTest#testSpecBundleNamespace\",\n",
    "    \"org.apache.felix.bundlerepository.impl.ResolverImplTest#testMatchingReq\",\n",
    "    \"org.apache.felix.bundlerepository.impl.ResolverImplTest#testResolveReq\",\n",
    "    \"org.apache.felix.bundlerepository.impl.ResolverImplTest#testResolveInterrupt\",\n",
    "    \"org.apache.felix.bundlerepository.impl.ResolverImplTest#testOptionalResolution\",\n",
    "    \"org.apache.felix.bundlerepository.impl.ResolverImplTest#testMandatoryPackages\",\n",
    "    \"org.apache.felix.bundlerepository.impl.ResolverImplTest#testFindUpdatableLocalResource\",\n",
    "    \"org.apache.felix.bundlerepository.impl.RepositoryAdminTest#testResourceFilterOnCapabilities\",\n",
    "    \"org.apache.felix.bundlerepository.impl.RepositoryAdminTest#testRemoveRepository\",\n",
    "    \"org.apache.felix.bundlerepository.impl.FelixRequirementAdapterTest#testDirectiveTranslation\",\n",
    "    \"org.apache.felix.bundlerepository.impl.FelixRequirementAdapterTest#testOtherDirectives\",\n",
    "    \"org.apache.felix.bundlerepository.impl.CapabilityImplTest#testDirectives\",\n",
    "    \"org.apache.felix.bundlerepository.impl.OSGiRepositoryImplTest#testCapabilities\",\n",
    "    \"org.apache.felix.bundlerepository.impl.OSGiRepositoryImplTest#testIdentityCapabilityFilter\",\n",
    "    \"org.apache.felix.bundlerepository.impl.OSGiRepositoryImplTest#testFilterOnCapability\",\n",
    "    \"org.apache.felix.bundlerepository.impl.OSGiRepositoryImplTest#testFilterOnCapabilityExistence\",\n",
    "    \"org.apache.felix.bundlerepository.impl.OSGiRepositoryImplTest#testRepositoryContent\",\n",
    "    \"org.apache.felix.bundlerepository.impl.OSGiRepositoryImplTest#testSystemBundleCapabilities\",\n",
    "    \"org.apache.felix.bundlerepository.impl.OSGiRepositoryXMLTest#testIdentityCapability\",\n",
    "    \"org.apache.felix.bundlerepository.impl.OSGiRepositoryXMLTest#testIdentityCapabilityWithRelativePath\",\n",
    "    \"org.apache.felix.bundlerepository.impl.OSGiRepositoryXMLTest#testIdentityCapabilityForZipWithRelativePath\",\n",
    "    \"org.apache.felix.bundlerepository.impl.OSGiRepositoryXMLTest#testOtherIdentityAttribute\",\n",
    "    \"org.apache.felix.bundlerepository.impl.OSGiRepositoryXMLTest#testContentCapability\",\n",
    "    \"org.apache.felix.bundlerepository.impl.RepositoryImplTest#testReferral1\",\n",
    "    \"org.apache.felix.bundlerepository.impl.RepositoryImplTest#testReferral2\",\n",
    "    \"org.apache.felix.bundlerepository.impl.LazyStringMapTest#testLazyHashMap\",\n",
    "    \"org.apache.felix.bundlerepository.impl.DataModelHelperTes#testResource\",\n",
    "    \"org.apache.felix.bundlerepository.impl.DataModelHelperTest#testRequirementFilter\",\n",
    "    \"org.apache.felix.bundlerepository.impl.DataModelHelperTest#testCapabilities\",\n",
    "    \"org.apache.felix.bundlerepository.impl.DataModelHelperTest#testGzipResource\",\n",
    "    \"org.apache.felix.bundlerepository.impl.StaxParserTest#testStaxParser\",\n",
    "    \"org.apache.felix.bundlerepository.impl.StaxParserTest#testPullParser\",\n",
    "    \"org.apache.felix.bundlerepository.impl.StaxParserTest#testPerfs\",\n",
    "    \"org.apache.felix.bundlerepository.impl.ResourceImplTest#testGetSizeFileResource\",\n",
    "    \"org.apache.felix.bundlerepository.impl.ResourceImplTest#testGetSizeNonExistentFileResource\",\n",
    "    \"org.apache.felix.bundlerepository.impl.ResourceImplTest#testGetSizeNonFileResource\",\n",
    "    \"org.apache.felix.bundlerepository.impl.ResourceImplTest#testGetSizeNonExistentResource\",\n",
    "    \"org.apache.felix.bundlerepository.impl.OSGiRequirementAdapterTes#testDirectivest\",\n",
    "    \"org.apache.felix.bundlerepository.impl.NamespaceTranslatorTest#testNamespaceTranslator\""
   ]
  }
 ],
 "metadata": {
  "kernelspec": {
   "display_name": "Python 3.8.2 64-bit",
   "language": "python",
   "name": "python3"
  },
  "language_info": {
   "name": "python",
   "version": "3.8.2"
  },
  "orig_nbformat": 4,
  "vscode": {
   "interpreter": {
    "hash": "31f2aee4e71d21fbe5cf8b01ff0e069b9275f58929596ceb00d14d90e3e16cd6"
   }
  }
 },
 "nbformat": 4,
 "nbformat_minor": 2
}
